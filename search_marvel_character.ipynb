{
  "nbformat": 4,
  "nbformat_minor": 0,
  "metadata": {
    "colab": {
      "name": "search_marvel_character.ipynb",
      "provenance": [],
      "collapsed_sections": [],
      "authorship_tag": "ABX9TyOfNLrcf3GIJxNjvWNOXVt9",
      "include_colab_link": true
    },
    "kernelspec": {
      "name": "python3",
      "display_name": "Python 3"
    },
    "language_info": {
      "name": "python"
    }
  },
  "cells": [
    {
      "cell_type": "markdown",
      "metadata": {
        "id": "view-in-github",
        "colab_type": "text"
      },
      "source": [
        "<a href=\"https://colab.research.google.com/github/juandabit18/Marvel_api_requests/blob/master/search_marvel_character.ipynb\" target=\"_parent\"><img src=\"https://colab.research.google.com/assets/colab-badge.svg\" alt=\"Open In Colab\"/></a>"
      ]
    },
    {
      "cell_type": "code",
      "metadata": {
        "id": "TF4ayyUTM50R"
      },
      "source": [
        "import hashlib, requests, webbrowser, shutil, json\n",
        "\n",
        "puk = \"1e7ba5ed30011bea00c1e83d13065a24\"\n",
        "prk = \"04bfdce07ec3dad0b8a17210138e9c43ea03330c\"\n",
        "ts = \"2\"\n",
        "suma = ts+prk+puk\n",
        "hash = hashlib.md5(suma.encode(\"utf-8\")).hexdigest()\n",
        "\n",
        "parameter = {\"apikey\": puk, \"ts\": ts, \"hash\": hash}\n",
        "\n",
        "r = requests.get(\"http://gateway.marvel.com/v1/public/characters\", parameter)\n",
        "\n",
        "packages_json = r.json()\n",
        "\n",
        "packages_cute = json.dumps(packages_json, indent=2)\n",
        "#print(packages_cute)\n",
        "\n",
        "data = input(\"Enter the name of the character: \")\n",
        "\n",
        "package_url = \"http://gateway.marvel.com/v1/public/characters?nameStartsWith={}\".format(data)\n",
        "print(\"The url to search for the character is:\", package_url)\n",
        "r = requests.get(package_url, parameter)\n",
        "package_json = r.json()\n",
        "package_cute = json.dumps(package_json, indent=2)\n",
        "print(\"The information of the character is:\\n\", package_cute)"
      ],
      "execution_count": null,
      "outputs": []
    }
  ]
}